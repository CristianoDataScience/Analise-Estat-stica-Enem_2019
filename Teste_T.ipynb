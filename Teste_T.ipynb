{
  "nbformat": 4,
  "nbformat_minor": 0,
  "metadata": {
    "colab": {
      "provenance": [],
      "collapsed_sections": [],
      "mount_file_id": "1Rbivgb1JWANT75x24LWNRjc0yuFjBFCn",
      "authorship_tag": "ABX9TyPbqLQpxBfkuLfxxYnn4WJk",
      "include_colab_link": true
    },
    "kernelspec": {
      "name": "python3",
      "display_name": "Python 3"
    },
    "language_info": {
      "name": "python"
    }
  },
  "cells": [
    {
      "cell_type": "markdown",
      "metadata": {
        "id": "view-in-github",
        "colab_type": "text"
      },
      "source": [
        "<a href=\"https://colab.research.google.com/github/CristianoDataScience/Analise-Estat-stica-Enem_2019/blob/main/Teste_T.ipynb\" target=\"_parent\"><img src=\"https://colab.research.google.com/assets/colab-badge.svg\" alt=\"Open In Colab\"/></a>"
      ]
    },
    {
      "cell_type": "markdown",
      "source": [
        "## Teste t para uma amostra"
      ],
      "metadata": {
        "id": "Dw0qfI_NRvV4"
      }
    },
    {
      "cell_type": "code",
      "execution_count": 30,
      "metadata": {
        "id": "tVLj3ZjoRrZ_"
      },
      "outputs": [],
      "source": [
        "import numpy as np\n",
        "import pandas as pd"
      ]
    },
    {
      "cell_type": "code",
      "source": [
        "enem_sp = pd.read_csv('/content/drive/MyDrive/curso estatistica/enem_2019_tratado.csv',\n",
        "                      sep=',', encoding='iso-8859-1')\n",
        "enem_sp.head()"
      ],
      "metadata": {
        "colab": {
          "base_uri": "https://localhost:8080/",
          "height": 300
        },
        "id": "iWKd9J8jR4vD",
        "outputId": "c736907f-a0a0-4f6d-ca38-172b11e01107"
      },
      "execution_count": 31,
      "outputs": [
        {
          "output_type": "execute_result",
          "data": {
            "text/plain": [
              "  NU_INSCRICAO NO_MUNICIPIO_RESIDENCIA  IDADE SEXO  TP_ESTADO_CIVIL    RACA  \\\n",
              "0     1,90E+11            Santa Isabel     22    M                1   parda   \n",
              "1     1,90E+11               São Paulo     17    F                1   parda   \n",
              "2     1,90E+11   São Bernardo do Campo     19    M                1   parda   \n",
              "3     1,90E+11              Embu-Guaçu     17    F                1   parda   \n",
              "4     1,90E+11               Guarulhos     23    F                1  branca   \n",
              "\n",
              "   TP_NACIONALIDADE  TP_ST_CONCLUSAO         ESCOLA   CO_ESCOLA  ... NOTA_MT  \\\n",
              "0                 1                1  nao_respondeu         NaN  ...   600.2   \n",
              "1                 1                2        privada  15567761.0  ...   731.8   \n",
              "2                 1                2        publica  35904958.0  ...   393.2   \n",
              "3                 1                2        publica         NaN  ...   419.2   \n",
              "4                 1                1  nao_respondeu         NaN  ...   796.1   \n",
              "\n",
              "   TP_LINGUA  TP_STATUS_REDACAO  COMP1  COMP2  COMP3  COMP4  COMP5  \\\n",
              "0     Ingles                1.0  160.0  200.0  180.0  200.0  200.0   \n",
              "1     Ingles                1.0  160.0  120.0  200.0  200.0  200.0   \n",
              "2   Espanhol                1.0   80.0  160.0  120.0  100.0  100.0   \n",
              "3     Ingles                1.0  120.0  120.0  120.0  120.0   80.0   \n",
              "4     Ingles                1.0  160.0  200.0  180.0  180.0  160.0   \n",
              "\n",
              "   NOTA_REDACAO INTERNET  \n",
              "0         940.0      Sim  \n",
              "1         880.0      Nao  \n",
              "2         560.0      Sim  \n",
              "3         560.0      Sim  \n",
              "4         880.0      Sim  \n",
              "\n",
              "[5 rows x 28 columns]"
            ],
            "text/html": [
              "\n",
              "  <div id=\"df-1553fab0-445d-42d8-9160-185b45657694\">\n",
              "    <div class=\"colab-df-container\">\n",
              "      <div>\n",
              "<style scoped>\n",
              "    .dataframe tbody tr th:only-of-type {\n",
              "        vertical-align: middle;\n",
              "    }\n",
              "\n",
              "    .dataframe tbody tr th {\n",
              "        vertical-align: top;\n",
              "    }\n",
              "\n",
              "    .dataframe thead th {\n",
              "        text-align: right;\n",
              "    }\n",
              "</style>\n",
              "<table border=\"1\" class=\"dataframe\">\n",
              "  <thead>\n",
              "    <tr style=\"text-align: right;\">\n",
              "      <th></th>\n",
              "      <th>NU_INSCRICAO</th>\n",
              "      <th>NO_MUNICIPIO_RESIDENCIA</th>\n",
              "      <th>IDADE</th>\n",
              "      <th>SEXO</th>\n",
              "      <th>TP_ESTADO_CIVIL</th>\n",
              "      <th>RACA</th>\n",
              "      <th>TP_NACIONALIDADE</th>\n",
              "      <th>TP_ST_CONCLUSAO</th>\n",
              "      <th>ESCOLA</th>\n",
              "      <th>CO_ESCOLA</th>\n",
              "      <th>...</th>\n",
              "      <th>NOTA_MT</th>\n",
              "      <th>TP_LINGUA</th>\n",
              "      <th>TP_STATUS_REDACAO</th>\n",
              "      <th>COMP1</th>\n",
              "      <th>COMP2</th>\n",
              "      <th>COMP3</th>\n",
              "      <th>COMP4</th>\n",
              "      <th>COMP5</th>\n",
              "      <th>NOTA_REDACAO</th>\n",
              "      <th>INTERNET</th>\n",
              "    </tr>\n",
              "  </thead>\n",
              "  <tbody>\n",
              "    <tr>\n",
              "      <th>0</th>\n",
              "      <td>1,90E+11</td>\n",
              "      <td>Santa Isabel</td>\n",
              "      <td>22</td>\n",
              "      <td>M</td>\n",
              "      <td>1</td>\n",
              "      <td>parda</td>\n",
              "      <td>1</td>\n",
              "      <td>1</td>\n",
              "      <td>nao_respondeu</td>\n",
              "      <td>NaN</td>\n",
              "      <td>...</td>\n",
              "      <td>600.2</td>\n",
              "      <td>Ingles</td>\n",
              "      <td>1.0</td>\n",
              "      <td>160.0</td>\n",
              "      <td>200.0</td>\n",
              "      <td>180.0</td>\n",
              "      <td>200.0</td>\n",
              "      <td>200.0</td>\n",
              "      <td>940.0</td>\n",
              "      <td>Sim</td>\n",
              "    </tr>\n",
              "    <tr>\n",
              "      <th>1</th>\n",
              "      <td>1,90E+11</td>\n",
              "      <td>São Paulo</td>\n",
              "      <td>17</td>\n",
              "      <td>F</td>\n",
              "      <td>1</td>\n",
              "      <td>parda</td>\n",
              "      <td>1</td>\n",
              "      <td>2</td>\n",
              "      <td>privada</td>\n",
              "      <td>15567761.0</td>\n",
              "      <td>...</td>\n",
              "      <td>731.8</td>\n",
              "      <td>Ingles</td>\n",
              "      <td>1.0</td>\n",
              "      <td>160.0</td>\n",
              "      <td>120.0</td>\n",
              "      <td>200.0</td>\n",
              "      <td>200.0</td>\n",
              "      <td>200.0</td>\n",
              "      <td>880.0</td>\n",
              "      <td>Nao</td>\n",
              "    </tr>\n",
              "    <tr>\n",
              "      <th>2</th>\n",
              "      <td>1,90E+11</td>\n",
              "      <td>São Bernardo do Campo</td>\n",
              "      <td>19</td>\n",
              "      <td>M</td>\n",
              "      <td>1</td>\n",
              "      <td>parda</td>\n",
              "      <td>1</td>\n",
              "      <td>2</td>\n",
              "      <td>publica</td>\n",
              "      <td>35904958.0</td>\n",
              "      <td>...</td>\n",
              "      <td>393.2</td>\n",
              "      <td>Espanhol</td>\n",
              "      <td>1.0</td>\n",
              "      <td>80.0</td>\n",
              "      <td>160.0</td>\n",
              "      <td>120.0</td>\n",
              "      <td>100.0</td>\n",
              "      <td>100.0</td>\n",
              "      <td>560.0</td>\n",
              "      <td>Sim</td>\n",
              "    </tr>\n",
              "    <tr>\n",
              "      <th>3</th>\n",
              "      <td>1,90E+11</td>\n",
              "      <td>Embu-Guaçu</td>\n",
              "      <td>17</td>\n",
              "      <td>F</td>\n",
              "      <td>1</td>\n",
              "      <td>parda</td>\n",
              "      <td>1</td>\n",
              "      <td>2</td>\n",
              "      <td>publica</td>\n",
              "      <td>NaN</td>\n",
              "      <td>...</td>\n",
              "      <td>419.2</td>\n",
              "      <td>Ingles</td>\n",
              "      <td>1.0</td>\n",
              "      <td>120.0</td>\n",
              "      <td>120.0</td>\n",
              "      <td>120.0</td>\n",
              "      <td>120.0</td>\n",
              "      <td>80.0</td>\n",
              "      <td>560.0</td>\n",
              "      <td>Sim</td>\n",
              "    </tr>\n",
              "    <tr>\n",
              "      <th>4</th>\n",
              "      <td>1,90E+11</td>\n",
              "      <td>Guarulhos</td>\n",
              "      <td>23</td>\n",
              "      <td>F</td>\n",
              "      <td>1</td>\n",
              "      <td>branca</td>\n",
              "      <td>1</td>\n",
              "      <td>1</td>\n",
              "      <td>nao_respondeu</td>\n",
              "      <td>NaN</td>\n",
              "      <td>...</td>\n",
              "      <td>796.1</td>\n",
              "      <td>Ingles</td>\n",
              "      <td>1.0</td>\n",
              "      <td>160.0</td>\n",
              "      <td>200.0</td>\n",
              "      <td>180.0</td>\n",
              "      <td>180.0</td>\n",
              "      <td>160.0</td>\n",
              "      <td>880.0</td>\n",
              "      <td>Sim</td>\n",
              "    </tr>\n",
              "  </tbody>\n",
              "</table>\n",
              "<p>5 rows × 28 columns</p>\n",
              "</div>\n",
              "      <button class=\"colab-df-convert\" onclick=\"convertToInteractive('df-1553fab0-445d-42d8-9160-185b45657694')\"\n",
              "              title=\"Convert this dataframe to an interactive table.\"\n",
              "              style=\"display:none;\">\n",
              "        \n",
              "  <svg xmlns=\"http://www.w3.org/2000/svg\" height=\"24px\"viewBox=\"0 0 24 24\"\n",
              "       width=\"24px\">\n",
              "    <path d=\"M0 0h24v24H0V0z\" fill=\"none\"/>\n",
              "    <path d=\"M18.56 5.44l.94 2.06.94-2.06 2.06-.94-2.06-.94-.94-2.06-.94 2.06-2.06.94zm-11 1L8.5 8.5l.94-2.06 2.06-.94-2.06-.94L8.5 2.5l-.94 2.06-2.06.94zm10 10l.94 2.06.94-2.06 2.06-.94-2.06-.94-.94-2.06-.94 2.06-2.06.94z\"/><path d=\"M17.41 7.96l-1.37-1.37c-.4-.4-.92-.59-1.43-.59-.52 0-1.04.2-1.43.59L10.3 9.45l-7.72 7.72c-.78.78-.78 2.05 0 2.83L4 21.41c.39.39.9.59 1.41.59.51 0 1.02-.2 1.41-.59l7.78-7.78 2.81-2.81c.8-.78.8-2.07 0-2.86zM5.41 20L4 18.59l7.72-7.72 1.47 1.35L5.41 20z\"/>\n",
              "  </svg>\n",
              "      </button>\n",
              "      \n",
              "  <style>\n",
              "    .colab-df-container {\n",
              "      display:flex;\n",
              "      flex-wrap:wrap;\n",
              "      gap: 12px;\n",
              "    }\n",
              "\n",
              "    .colab-df-convert {\n",
              "      background-color: #E8F0FE;\n",
              "      border: none;\n",
              "      border-radius: 50%;\n",
              "      cursor: pointer;\n",
              "      display: none;\n",
              "      fill: #1967D2;\n",
              "      height: 32px;\n",
              "      padding: 0 0 0 0;\n",
              "      width: 32px;\n",
              "    }\n",
              "\n",
              "    .colab-df-convert:hover {\n",
              "      background-color: #E2EBFA;\n",
              "      box-shadow: 0px 1px 2px rgba(60, 64, 67, 0.3), 0px 1px 3px 1px rgba(60, 64, 67, 0.15);\n",
              "      fill: #174EA6;\n",
              "    }\n",
              "\n",
              "    [theme=dark] .colab-df-convert {\n",
              "      background-color: #3B4455;\n",
              "      fill: #D2E3FC;\n",
              "    }\n",
              "\n",
              "    [theme=dark] .colab-df-convert:hover {\n",
              "      background-color: #434B5C;\n",
              "      box-shadow: 0px 1px 3px 1px rgba(0, 0, 0, 0.15);\n",
              "      filter: drop-shadow(0px 1px 2px rgba(0, 0, 0, 0.3));\n",
              "      fill: #FFFFFF;\n",
              "    }\n",
              "  </style>\n",
              "\n",
              "      <script>\n",
              "        const buttonEl =\n",
              "          document.querySelector('#df-1553fab0-445d-42d8-9160-185b45657694 button.colab-df-convert');\n",
              "        buttonEl.style.display =\n",
              "          google.colab.kernel.accessAllowed ? 'block' : 'none';\n",
              "\n",
              "        async function convertToInteractive(key) {\n",
              "          const element = document.querySelector('#df-1553fab0-445d-42d8-9160-185b45657694');\n",
              "          const dataTable =\n",
              "            await google.colab.kernel.invokeFunction('convertToInteractive',\n",
              "                                                     [key], {});\n",
              "          if (!dataTable) return;\n",
              "\n",
              "          const docLinkHtml = 'Like what you see? Visit the ' +\n",
              "            '<a target=\"_blank\" href=https://colab.research.google.com/notebooks/data_table.ipynb>data table notebook</a>'\n",
              "            + ' to learn more about interactive tables.';\n",
              "          element.innerHTML = '';\n",
              "          dataTable['output_type'] = 'display_data';\n",
              "          await google.colab.output.renderOutput(dataTable, element);\n",
              "          const docLink = document.createElement('div');\n",
              "          docLink.innerHTML = docLinkHtml;\n",
              "          element.appendChild(docLink);\n",
              "        }\n",
              "      </script>\n",
              "    </div>\n",
              "  </div>\n",
              "  "
            ]
          },
          "metadata": {},
          "execution_count": 31
        }
      ]
    },
    {
      "cell_type": "code",
      "source": [
        "colegioy = enem_sp.loc[enem_sp.CO_ESCOLA == 35151506.0]"
      ],
      "metadata": {
        "id": "4wp50Gw5SdFo"
      },
      "execution_count": 32,
      "outputs": []
    },
    {
      "cell_type": "code",
      "source": [
        "colegioy.shape"
      ],
      "metadata": {
        "colab": {
          "base_uri": "https://localhost:8080/"
        },
        "id": "okt7yFOlSqD4",
        "outputId": "59cd2415-8553-4b6e-8354-5ed4a5f7deea"
      },
      "execution_count": 33,
      "outputs": [
        {
          "output_type": "execute_result",
          "data": {
            "text/plain": [
              "(30, 28)"
            ]
          },
          "metadata": {},
          "execution_count": 33
        }
      ]
    },
    {
      "cell_type": "markdown",
      "source": [
        "1) Analisar a classificação das variáveis"
      ],
      "metadata": {
        "id": "hVWZrgJAbJXj"
      }
    },
    {
      "cell_type": "code",
      "source": [
        "colegioy.dtypes"
      ],
      "metadata": {
        "colab": {
          "base_uri": "https://localhost:8080/"
        },
        "id": "zLShoWzDSsdS",
        "outputId": "8226bdb1-c6f9-4c68-e888-93ab12a586eb"
      },
      "execution_count": 34,
      "outputs": [
        {
          "output_type": "execute_result",
          "data": {
            "text/plain": [
              "NU_INSCRICAO                object\n",
              "NO_MUNICIPIO_RESIDENCIA     object\n",
              "IDADE                        int64\n",
              "SEXO                        object\n",
              "TP_ESTADO_CIVIL              int64\n",
              "RACA                        object\n",
              "TP_NACIONALIDADE             int64\n",
              "TP_ST_CONCLUSAO              int64\n",
              "ESCOLA                      object\n",
              "CO_ESCOLA                  float64\n",
              "NO_MUNICIPIO_ESC            object\n",
              "TP_PRESENCA_CN               int64\n",
              "TP_PRESENCA_CH               int64\n",
              "TP_PRESENCA_LC               int64\n",
              "TP_PRESENCA_MT               int64\n",
              "NOTA_CN                    float64\n",
              "NOTA_CH                    float64\n",
              "NOTA_LC                    float64\n",
              "NOTA_MT                    float64\n",
              "TP_LINGUA                   object\n",
              "TP_STATUS_REDACAO          float64\n",
              "COMP1                      float64\n",
              "COMP2                      float64\n",
              "COMP3                      float64\n",
              "COMP4                      float64\n",
              "COMP5                      float64\n",
              "NOTA_REDACAO               float64\n",
              "INTERNET                    object\n",
              "dtype: object"
            ]
          },
          "metadata": {},
          "execution_count": 34
        }
      ]
    },
    {
      "cell_type": "markdown",
      "source": [
        "2) Analisar valores missing"
      ],
      "metadata": {
        "id": "ef6iMJulbXof"
      }
    },
    {
      "cell_type": "code",
      "source": [
        "colegioy.isnull().sum()"
      ],
      "metadata": {
        "colab": {
          "base_uri": "https://localhost:8080/"
        },
        "id": "LmdrEQf9bRFK",
        "outputId": "f09ce075-88a8-4aa7-fb4f-e5b12151ce1d"
      },
      "execution_count": 35,
      "outputs": [
        {
          "output_type": "execute_result",
          "data": {
            "text/plain": [
              "NU_INSCRICAO               0\n",
              "NO_MUNICIPIO_RESIDENCIA    0\n",
              "IDADE                      0\n",
              "SEXO                       0\n",
              "TP_ESTADO_CIVIL            0\n",
              "RACA                       0\n",
              "TP_NACIONALIDADE           0\n",
              "TP_ST_CONCLUSAO            0\n",
              "ESCOLA                     0\n",
              "CO_ESCOLA                  0\n",
              "NO_MUNICIPIO_ESC           0\n",
              "TP_PRESENCA_CN             0\n",
              "TP_PRESENCA_CH             0\n",
              "TP_PRESENCA_LC             0\n",
              "TP_PRESENCA_MT             0\n",
              "NOTA_CN                    0\n",
              "NOTA_CH                    0\n",
              "NOTA_LC                    0\n",
              "NOTA_MT                    0\n",
              "TP_LINGUA                  0\n",
              "TP_STATUS_REDACAO          0\n",
              "COMP1                      0\n",
              "COMP2                      0\n",
              "COMP3                      0\n",
              "COMP4                      0\n",
              "COMP5                      0\n",
              "NOTA_REDACAO               0\n",
              "INTERNET                   0\n",
              "dtype: int64"
            ]
          },
          "metadata": {},
          "execution_count": 35
        }
      ]
    },
    {
      "cell_type": "markdown",
      "source": [
        "3) Analisar outliers"
      ],
      "metadata": {
        "id": "yK0K1lc9bikh"
      }
    },
    {
      "cell_type": "code",
      "source": [
        "import seaborn as sns "
      ],
      "metadata": {
        "id": "EUk706FGbfxX"
      },
      "execution_count": 38,
      "outputs": []
    },
    {
      "cell_type": "code",
      "source": [
        "sns.boxplot(y='NOTA_REDACAO', data=colegioy);"
      ],
      "metadata": {
        "colab": {
          "base_uri": "https://localhost:8080/",
          "height": 252
        },
        "id": "23erej3AbsWK",
        "outputId": "1a894056-87d3-4e95-af34-3401138c95ed"
      },
      "execution_count": 39,
      "outputs": [
        {
          "output_type": "display_data",
          "data": {
            "text/plain": [
              "<Figure size 432x288 with 1 Axes>"
            ],
            "image/png": "[encoded data removed]"
          },
          "metadata": {
            "needs_background": "light"
          }
        }
      ]
    },
    {
      "cell_type": "code",
      "source": [
        "sns.boxplot(x='RACA', y='NOTA_REDACAO', data=colegioy);"
      ],
      "metadata": {
        "id": "ZW0RrdkcdXUZ",
        "colab": {
          "base_uri": "https://localhost:8080/",
          "height": 279
        },
        "outputId": "4b8cd9c0-e1e1-47e9-8ea4-9d4d6cdfe78c"
      },
      "execution_count": 40,
      "outputs": [
        {
          "output_type": "display_data",
          "data": {
            "text/plain": [
              "<Figure size 432x288 with 1 Axes>"
            ],
            "image/png": "[encoded data removed]"
          },
          "metadata": {
            "needs_background": "light"
          }
        }
      ]
    },
    {
      "cell_type": "code",
      "source": [
        "sns.boxplot(x='SEXO', y='NOTA_REDACAO', data=colegioy);"
      ],
      "metadata": {
        "colab": {
          "base_uri": "https://localhost:8080/",
          "height": 279
        },
        "id": "5m7wWLoxhXKK",
        "outputId": "11f7c6d7-58b7-4424-961d-f3e071eb1a80"
      },
      "execution_count": 42,
      "outputs": [
        {
          "output_type": "display_data",
          "data": {
            "text/plain": [
              "<Figure size 432x288 with 1 Axes>"
            ],
            "image/png": "[encoded data removed]"
          },
          "metadata": {
            "needs_background": "light"
          }
        }
      ]
    },
    {
      "cell_type": "code",
      "source": [
        "\n",
        "sns.histplot(colegioy, x='NOTA_REDACAO', bins=10, color='blue', kde=True, stat='probability');"
      ],
      "metadata": {
        "colab": {
          "base_uri": "https://localhost:8080/",
          "height": 280
        },
        "id": "cpOosVGChm4A",
        "outputId": "b466aab0-42ad-4711-95d1-71f72b312fe0"
      },
      "execution_count": 47,
      "outputs": [
        {
          "output_type": "display_data",
          "data": {
            "text/plain": [
              "<Figure size 432x288 with 1 Axes>"
            ],
            "image/png": "[encoded data removed]"
          },
          "metadata": {
            "needs_background": "light"
          }
        }
      ]
    },
    {
      "cell_type": "code",
      "source": [
        "import scipy.stats as stats\n",
        "import matplotlib.pyplot as plt"
      ],
      "metadata": {
        "id": "SvTn3s9aimAb"
      },
      "execution_count": 48,
      "outputs": []
    },
    {
      "cell_type": "code",
      "source": [
        "stats.probplot(colegioy['NOTA_REDACAO'], dist='norm', plot=plt)\n",
        "plt.title('Normal Q-Q Plot')\n",
        "plt.show()"
      ],
      "metadata": {
        "colab": {
          "base_uri": "https://localhost:8080/",
          "height": 295
        },
        "id": "sYvxroc5ju3c",
        "outputId": "ee677d67-14bc-4a15-f2ac-72e7f9676f16"
      },
      "execution_count": 49,
      "outputs": [
        {
          "output_type": "display_data",
          "data": {
            "text/plain": [
              "<Figure size 432x288 with 1 Axes>"
            ],
            "image/png": "[encoded data removed]"
          },
          "metadata": {
            "needs_background": "light"
          }
        }
      ]
    },
    {
      "cell_type": "markdown",
      "source": [
        "### Critérios:\n",
        "\n",
        "##### Nível de significância de 0,05 ou 5% (Mais utilizado)\n",
        "\n",
        "##### Quando p > 0,05 (Distribuição normal)"
      ],
      "metadata": {
        "id": "-1ERLSe8rShz"
      }
    },
    {
      "cell_type": "code",
      "source": [
        "# Teste Shapiro-Wilk\n",
        "stats.shapiro(colegioy.NOTA_REDACAO)"
      ],
      "metadata": {
        "colab": {
          "base_uri": "https://localhost:8080/"
        },
        "id": "m6iBD28bj_ga",
        "outputId": "41dd895a-6826-48a5-d1d3-55aa91522e07"
      },
      "execution_count": 50,
      "outputs": [
        {
          "output_type": "execute_result",
          "data": {
            "text/plain": [
              "ShapiroResult(statistic=0.9185915589332581, pvalue=0.02466052584350109)"
            ]
          },
          "metadata": {},
          "execution_count": 50
        }
      ]
    },
    {
      "cell_type": "code",
      "source": [
        "import statsmodels\n",
        "from statsmodels.stats.diagnostic import lilliefors"
      ],
      "metadata": {
        "id": "7t0lJavQr0W4"
      },
      "execution_count": 51,
      "outputs": []
    },
    {
      "cell_type": "code",
      "source": [
        "# Teste lillifors (Kolmogorov_Sminorv)\n",
        "\n",
        "statsmodels.stats.diagnostic.lilliefors(colegioy.NOTA_REDACAO, dist='norm')"
      ],
      "metadata": {
        "colab": {
          "base_uri": "https://localhost:8080/"
        },
        "id": "Hvs8nY2vsBfu",
        "outputId": "70602229-54cc-4a91-c2ec-bf8bc0c69f4c"
      },
      "execution_count": 52,
      "outputs": [
        {
          "output_type": "execute_result",
          "data": {
            "text/plain": [
              "(0.15794211976028916, 0.052842042822119004)"
            ]
          },
          "metadata": {},
          "execution_count": 52
        }
      ]
    },
    {
      "cell_type": "code",
      "source": [
        "# Teste Anderson-Darling\n",
        "stats.anderson(colegioy.NOTA_REDACAO, 'norm')"
      ],
      "metadata": {
        "colab": {
          "base_uri": "https://localhost:8080/"
        },
        "id": "AbWgnLYisU9r",
        "outputId": "2360a102-f1d8-488b-c689-8bdf12eb35a5"
      },
      "execution_count": 54,
      "outputs": [
        {
          "output_type": "execute_result",
          "data": {
            "text/plain": [
              "AndersonResult(statistic=0.8227980663381267, critical_values=array([0.521, 0.593, 0.712, 0.83 , 0.988]), significance_level=array([15. , 10. ,  5. ,  2.5,  1. ]))"
            ]
          },
          "metadata": {},
          "execution_count": 54
        }
      ]
    },
    {
      "cell_type": "markdown",
      "source": [
        "## Teste t\n",
        "\n",
        "Média das notas do colégio Y, comparada a média do Estado de São Paulo.\n",
        "\n",
        "#### Ho = média é igual a de São Paulo: p > 0,05\n",
        "#### Ha = média é diferente da de São Paulo: p <= 0,05"
      ],
      "metadata": {
        "id": "wGm7gel1s18p"
      }
    },
    {
      "cell_type": "code",
      "source": [
        "from statsmodels.stats.weightstats import ztest"
      ],
      "metadata": {
        "id": "E88WEm5ssaTT"
      },
      "execution_count": 55,
      "outputs": []
    },
    {
      "cell_type": "code",
      "source": [
        "enem_sp.NOTA_REDACAO.describe()"
      ],
      "metadata": {
        "colab": {
          "base_uri": "https://localhost:8080/"
        },
        "id": "K7AJn69Xt_7x",
        "outputId": "ca9d09f2-e073-41f2-a06e-1aa0a0f40480"
      },
      "execution_count": 58,
      "outputs": [
        {
          "output_type": "execute_result",
          "data": {
            "text/plain": [
              "count    499940.000000\n",
              "mean        593.018322\n",
              "std         170.536724\n",
              "min           0.000000\n",
              "25%         500.000000\n",
              "50%         600.000000\n",
              "75%         680.000000\n",
              "max        1000.000000\n",
              "Name: NOTA_REDACAO, dtype: float64"
            ]
          },
          "metadata": {},
          "execution_count": 58
        }
      ]
    },
    {
      "cell_type": "code",
      "source": [
        "import scipy.stats as stats"
      ],
      "metadata": {
        "id": "BKp0E8ktuyJR"
      },
      "execution_count": 61,
      "outputs": []
    },
    {
      "cell_type": "code",
      "source": [
        "stat, p = stats.ttest_1samp(colegioy['NOTA_REDACAO'], popmean=593.018, )\n",
        "print(\"Estatística de teste: {}\".format(stat.round(2)))\n",
        "print('p-valor: {}'.format(p.round(10)))"
      ],
      "metadata": {
        "colab": {
          "base_uri": "https://localhost:8080/"
        },
        "id": "zb4Envh3uFvL",
        "outputId": "01447997-c045-4aad-83d5-8b6ce0dae996"
      },
      "execution_count": 64,
      "outputs": [
        {
          "output_type": "stream",
          "name": "stdout",
          "text": [
            "Estatística de teste: 7.18\n",
            "p-valor: 6.72e-08\n"
          ]
        }
      ]
    },
    {
      "cell_type": "code",
      "source": [
        "colegioy.NOTA_REDACAO.describe()"
      ],
      "metadata": {
        "colab": {
          "base_uri": "https://localhost:8080/"
        },
        "id": "bEOHtrBvv0EP",
        "outputId": "d4dd2449-b36b-490c-b06e-1d7e8b62a3c8"
      },
      "execution_count": 66,
      "outputs": [
        {
          "output_type": "execute_result",
          "data": {
            "text/plain": [
              "count     30.000000\n",
              "mean     716.000000\n",
              "std       93.867111\n",
              "min      600.000000\n",
              "25%      640.000000\n",
              "50%      710.000000\n",
              "75%      760.000000\n",
              "max      960.000000\n",
              "Name: NOTA_REDACAO, dtype: float64"
            ]
          },
          "metadata": {},
          "execution_count": 66
        }
      ]
    },
    {
      "cell_type": "markdown",
      "source": [
        "## Interpretação:\n",
        "\n",
        "#### Teste estatístico: t = 7,18\n",
        "#### p_valor = 6.72e-08\n",
        "\n",
        "Conclusão: Estatíticamente, a média do colégio y é diferente da média do Estado de São Paulo, com intervalo de confiança de 95%."
      ],
      "metadata": {
        "id": "dnRt8R1mvFpd"
      }
    }
  ]
}